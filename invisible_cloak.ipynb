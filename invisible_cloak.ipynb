{
 "cells": [
  {
   "cell_type": "code",
   "execution_count": 1,
   "metadata": {},
   "outputs": [],
   "source": [
    "from cv2 import cv2\n",
    "import numpy as np\n",
    "cap = cv2.VideoCapture(0)\n",
    "back = cv2.imread('./image.jpg')\n",
    "\n",
    "while cap.isOpened():\n",
    "    ret ,frame = cap.read()\n",
    "\n",
    "    if ret:\n",
    "        hsv = cv2.cvtColor(frame,cv2.COLOR_BGR2HSV)\n",
    "        #cv2.imshow(\"hsv\",hsv)\n",
    "\n",
    "        red = np.uint8([[[0,0,255]]])\n",
    "        hsv_red = cv2.cvtColor(red, cv2.COLOR_BGR2HSV)\n",
    "        #print(hsv_red)\n",
    "\n",
    "        l_red = np.array([0,100,100])\n",
    "        u_red = np.array([10,255,255])\n",
    "\n",
    "        mask = cv2.inRange(hsv,l_red,u_red)\n",
    "        \n",
    "\n",
    "        part1 = cv2.bitwise_and(back ,back ,mask=mask)\n",
    "        #cv2.imshow(\"part1\",part1)\n",
    "\n",
    "        mask = cv2.bitwise_not(mask)\n",
    "\n",
    "        part2 = cv2.bitwise_and(frame,frame,mask = mask)\n",
    "        #cv2.imshow(\"Mask\",part2)\n",
    "\n",
    "        cv2.imshow(\"Cloak\",part1 + part2)\n",
    "        \n",
    "        if cv2.waitKey(5) == ord('q'):\n",
    "            break\n",
    "\n",
    "cap.release()\n",
    "cv2.destroyAllWindows()"
   ]
  }
 ],
 "metadata": {
  "kernelspec": {
   "display_name": "Python 3",
   "language": "python",
   "name": "python3"
  },
  "language_info": {
   "codemirror_mode": {
    "name": "ipython",
    "version": 3
   },
   "file_extension": ".py",
   "mimetype": "text/x-python",
   "name": "python",
   "nbconvert_exporter": "python",
   "pygments_lexer": "ipython3",
   "version": "3.8.2"
  }
 },
 "nbformat": 4,
 "nbformat_minor": 4
}
